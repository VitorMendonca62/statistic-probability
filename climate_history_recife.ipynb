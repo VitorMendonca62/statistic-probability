{
 "cells": [
  {
   "cell_type": "markdown",
   "metadata": {},
   "source": [
    "1. Qual a probabilidade de amanhã (01/12) ter:\n",
    "\n",
    "a. Temperatura mínima abaixo de 25ºC;\n",
    "b. Temperatura máxima acima de 30ºC;\n",
    "c. Precipitação total acima de 5 mm;\n",
    "d. Umidade relativa média entre 80 e 60;\n",
    "\n",
    "2. Qual a probabilidade de amanhã (uma sexta-feira) ter:\n",
    "a. Temperatura mínima abaixo de 25ºC;\n",
    "b. Temperatura máxima acima de 30ºC;\n",
    "c. Precipitação total acima de 5 mm;\n",
    "d. Umidade relativa média entre 80 e 60;\n"
   ]
  },
  {
   "cell_type": "code",
   "execution_count": 1,
   "metadata": {},
   "outputs": [
    {
     "name": "stdout",
     "output_type": "stream",
     "text": [
      "1.\n",
      "a. 86.67%\n",
      "b. 93.33%\n",
      "c. 0.00%\n",
      "d. 100.00%\n",
      "2.\n",
      "a. 94.98%\n",
      "b. 54.36%\n",
      "c. 27.15%\n",
      "d. 99.63%\n"
     ]
    }
   ],
   "source": [
    "import pandas as pd\n",
    "\n",
    "data = pd.read_csv(\"data/climate_history.csv\",encoding=\"utf8\")\n",
    "\n",
    "data[\"TEMPERATURA MINIMA, DIARIA (AUT)(°C)\"].replace(\", \", \".\")\n",
    "\n",
    "def remove_colon(data,):\n",
    "  columns = [\n",
    "    \"TEMPERATURA MINIMA, DIARIA (AUT)(°C)\",\n",
    "    \"TEMPERATURA MAXIMA, DIARIA (AUT)(°C)\",\n",
    "    \"PRECIPITACAO TOTAL, DIARIO (AUT)(mm)\",\n",
    "    \"UMIDADE RELATIVA DO AR, MEDIA DIARIA (AUT)(%)\"\n",
    "    ]\n",
    "  \n",
    "  for column in columns:\n",
    "    data[column] = (data[column].str.replace(\",\", \".\")).astype(\"float64\")\n",
    "\n",
    "remove_colon(data)\n",
    "\n",
    "def question_resolve(question, day, mouth, day_week):\n",
    "  print(f\"{question}.\")\n",
    "  if day_week == False:\n",
    "    is_mouth_ = data[data[\"Mês\"] == mouth]\n",
    "    is_day_mouth = is_mouth_[is_mouth_[\"Dia do Mês\"] == day] \n",
    "  else:\n",
    "    is_day_mouth = data[data[\"Dia da Semana\"] == day_week]\n",
    "\n",
    "  def calc_count(data, column, sinal, value):\n",
    "    condition = data[column] < value if sinal == \"<\" else data[column] > value\n",
    "    data_filtered = data[condition]\n",
    "    count_filtered = data_filtered[column].count()\n",
    "    count_total = data[column].count()\n",
    "    return [(count_filtered / count_total) * 100, data_filtered]\n",
    "  \n",
    "  print(f\"a. {calc_count(is_day_mouth, \"TEMPERATURA MINIMA, DIARIA (AUT)(°C)\", \"<\", 25 )[0]:.2f}%\")\n",
    "  print(f\"b. {calc_count(is_day_mouth, \"TEMPERATURA MAXIMA, DIARIA (AUT)(°C)\", \">\", 30 )[0]:.2f}%\")\n",
    "  print(f\"c. {calc_count(is_day_mouth, \"PRECIPITACAO TOTAL, DIARIO (AUT)(mm)\", \">\", 5 )[0]:.2f}%\")\n",
    "\n",
    "  data_filtered_smaller = calc_count(is_day_mouth, \"UMIDADE RELATIVA DO AR, MEDIA DIARIA (AUT)(%)\", \"<\", 80)[1]\n",
    "  print(f\"d. {calc_count(data_filtered_smaller, \"UMIDADE RELATIVA DO AR, MEDIA DIARIA (AUT)(%)\", \">\", 60 )[0]:.2f}%\")\n",
    "\n",
    "question_resolve(1, 1, 12, False)\n",
    "question_resolve(2, False, False, 6)\n"
   ]
  }
 ],
 "metadata": {
  "kernelspec": {
   "display_name": "Python 3",
   "language": "python",
   "name": "python3"
  },
  "language_info": {
   "codemirror_mode": {
    "name": "ipython",
    "version": 3
   },
   "file_extension": ".py",
   "mimetype": "text/x-python",
   "name": "python",
   "nbconvert_exporter": "python",
   "pygments_lexer": "ipython3",
   "version": "3.12.3"
  }
 },
 "nbformat": 4,
 "nbformat_minor": 2
}
