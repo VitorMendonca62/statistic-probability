{
 "cells": [
  {
   "cell_type": "markdown",
   "metadata": {},
   "source": [
    "1. Qual a probabilidade de amanhã (01/12) ter:\n",
    "\n",
    "a. Temperatura mínima abaixo de 25ºC;\n",
    "\n",
    "b. Temperatura máxima acima de 30ºC;\n",
    "\n",
    "c. Precipitação total acima de 5 mm;\n",
    "\n",
    "Umidade relativa média acima de 80 ou abaixo de 60;"
   ]
  },
  {
   "cell_type": "code",
   "execution_count": 9,
   "metadata": {},
   "outputs": [
    {
     "name": "stdout",
     "output_type": "stream",
     "text": [
      "1\n",
      "A. 86.67%\n",
      "B. 93.33%\n",
      "C. 0.00%\n",
      "D. 100.00%\n",
      "2.\n",
      "A. 94.98%\n",
      "B. 54.36%\n",
      "C. 27.15%\n",
      "D. 66.63%\n"
     ]
    }
   ],
   "source": [
    "import csv\n",
    "\n",
    "data = open(\"data/climate_history.csv\", mode=\"r\" ,encoding=\"utf8\")\n",
    "data = csv.DictReader(data)\n",
    "data = list(data)\n",
    "\n",
    "\n",
    "def define_probability(day_and_month, day, month, day_week):\n",
    "  mimimum_small_25 = 0\n",
    "  total_mimimum_small_25 = 0\n",
    "  \n",
    "  maximum_biggest_30 = 0\n",
    "  total_maximum_biggest_30 = 0\n",
    "  \n",
    "  precipitation_biggest_5 = 0\n",
    "  total_precipitation_biggest_5 = 0\n",
    "  \n",
    "  humidity_60_and_80 = 0\n",
    "  total_humidity_60_and_80 = 0\n",
    "\n",
    "\n",
    "  for date in data:\n",
    "    if (day_and_month and date[\"Mês\"] == month and date[\"Dia do Mês\"] == day) or date[\"Dia da Semana\"] == day_week:\n",
    "      minimum = date[\"TEMPERATURA MINIMA, DIARIA (AUT)(°C)\"].replace(\",\", \".\")\n",
    "      if minimum != \"null\" and float(minimum) < 25: mimimum_small_25 += 1\n",
    "      \n",
    "      if minimum != \"null\": total_mimimum_small_25 += 1\n",
    "      \n",
    "      maximum = date[\"TEMPERATURA MAXIMA, DIARIA (AUT)(°C)\"].replace(\",\", \".\")\n",
    "      if maximum != \"null\" and float(maximum) > 30: maximum_biggest_30 += 1\n",
    "      \n",
    "      if maximum != \"null\": total_maximum_biggest_30 += 1\n",
    "      \n",
    "      precipitation = date[\"PRECIPITACAO TOTAL, DIARIO (AUT)(mm)\"].replace(\",\", \".\")\n",
    "      if precipitation != \"null\" and float(precipitation) > 5: precipitation_biggest_5 += 1\n",
    "      \n",
    "      if precipitation != \"null\": total_precipitation_biggest_5 += 1\n",
    "      \n",
    "      humidity = date[\"UMIDADE RELATIVA DO AR, MEDIA DIARIA (AUT)(%)\"].replace(\",\", \".\")\n",
    "      if humidity != \"null\" and float(humidity) > 60 and float(humidity) < 80 : humidity_60_and_80 += 1\n",
    "      \n",
    "      if humidity != \"null\": total_humidity_60_and_80 += 1\n",
    "  \n",
    "  print(f\"A. {((mimimum_small_25 / total_mimimum_small_25) * 100):.2f}%\")\n",
    "  print(f\"B. {((maximum_biggest_30 / total_maximum_biggest_30) * 100):.2f}%\")\n",
    "  print(f\"C. {((precipitation_biggest_5 / total_precipitation_biggest_5) * 100):.2f}%\")\n",
    "  print(f\"D. {((humidity_60_and_80 / total_humidity_60_and_80) * 100):.2f}%\")\n",
    "  \n",
    "print(\"1\")      \n",
    "define_probability(True, \"1\",\"12\", False)\n",
    "print(\"2.\")\n",
    "define_probability(False, False, False, \"6\")\n"
   ]
  }
 ],
 "metadata": {
  "kernelspec": {
   "display_name": "Python 3",
   "language": "python",
   "name": "python3"
  },
  "language_info": {
   "codemirror_mode": {
    "name": "ipython",
    "version": 3
   },
   "file_extension": ".py",
   "mimetype": "text/x-python",
   "name": "python",
   "nbconvert_exporter": "python",
   "pygments_lexer": "ipython3",
   "version": "3.12.2"
  }
 },
 "nbformat": 4,
 "nbformat_minor": 2
}
