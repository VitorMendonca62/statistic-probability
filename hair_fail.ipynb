{
 "cells": [
  {
   "cell_type": "markdown",
   "metadata": {},
   "source": [
    "A. Ordene os traços da base por mais provável de indicar calvície (3+) quando em valor acima do terceiro quartil?\n",
    "\n",
    "B. Ordene os traços da base por mais provável de indicar calvície (3+) quando em valor abaixo do primeiro quartil?\n"
   ]
  },
  {
   "cell_type": "code",
   "execution_count": 11,
   "metadata": {},
   "outputs": [
    {
     "name": "stdout",
     "output_type": "stream",
     "text": [
      "A.\n",
      "{'stress_level': 49.98, 'total_protein': 49.96, 'vitamin': 49.9, 'hair_texture': 50.07, 'calcium': 49.8, 'body_water_content': 49.92, 'iron': 49.94, 'total_keratine': 49.99, 'manganese': 49.98, 'liver_data': 49.79}\n",
      "B.\n",
      "{'stress_level': 50.56, 'total_protein': 50.29, 'vitamin': 49.93, 'hair_texture': 49.86, 'calcium': 49.86, 'body_water_content': 49.63, 'iron': 49.58, 'total_keratine': 49.51, 'manganese': 49.38, 'liver_data': 49.6}\n"
     ]
    }
   ],
   "source": [
    "import pandas as pd\n",
    "\n",
    "data = pd.read_csv('data/hair_fail.csv')\n",
    "\n",
    "indexes = [\"stress_level\", \"total_protein\", \"vitamin\", \"hair_texture\", \"calcium\", \"body_water_content\", \"iron\", \"total_keratine\", \"manganese\", \"liver_data\"]\n",
    "\n",
    "cases_q1 = {}\n",
    "cases_q3 = {}\n",
    "\n",
    "def define_probability(index):\n",
    "  q3 = data[index].quantile(0.75)\n",
    "  q1 = data[index].quantile(0.25)\n",
    "  \n",
    "  cases_greater_q3 = 0\n",
    "  cases_greater_q3_and_hairfail_3 = 0\n",
    "  \n",
    "  cases_greater_q1 = 0\n",
    "  cases_greater_q1_and_hairfail_3 = 0\n",
    "  \n",
    "  for i in range(len(data[index])):\n",
    "    row_index = data[index][i]\n",
    "    \n",
    "    if int(row_index) > q3:\n",
    "      cases_greater_q3 += 1\n",
    "      if data[\"hair_fall\"][i] >= 3:\n",
    "        cases_greater_q3_and_hairfail_3 += 1\n",
    "  \n",
    "    if int(row_index) > q1:\n",
    "      cases_greater_q1 += 1\n",
    "      if data[\"hair_fall\"][i] >= 3:\n",
    "        cases_greater_q1_and_hairfail_3 += 1\n",
    "        \n",
    "  probability_q3 = round((cases_greater_q1_and_hairfail_3 / cases_greater_q1) * 100, 2)\n",
    "  probability_q1 = round((cases_greater_q3_and_hairfail_3 / cases_greater_q3) * 100, 2)\n",
    "  \n",
    "  return (probability_q1, probability_q3)\n",
    "  \n",
    "for index in indexes:\n",
    "  probability_q1, probability_q3 = define_probability(index)\n",
    "  cases_q1[index] = probability_q1\n",
    "  cases_q3[index] = probability_q3\n",
    "  \n",
    "sorted(cases_q1, key=cases_q1.get)\n",
    "sorted(cases_q3, key=cases_q3.get)\n",
    "\n",
    "print(\"A.\")\n",
    "print(cases_q3)\n",
    "print(\"B.\")\n",
    "print(cases_q1)"
   ]
  }
 ],
 "metadata": {
  "kernelspec": {
   "display_name": "Python 3",
   "language": "python",
   "name": "python3"
  },
  "language_info": {
   "name": "python",
   "version": "3.12.3"
  }
 },
 "nbformat": 4,
 "nbformat_minor": 2
}
