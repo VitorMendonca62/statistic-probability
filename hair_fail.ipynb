{
 "cells": [
  {
   "cell_type": "markdown",
   "metadata": {},
   "source": [
    "A. Ordene os traços da base por mais provável de indicar calvície (3+) quando em valor acima do terceiro quartil?\n",
    "\n",
    "B. Ordene os traços da base por mais provável de indicar calvície (3+) quando em valor abaixo do primeiro quartil?\n"
   ]
  },
  {
   "cell_type": "code",
   "execution_count": 3,
   "metadata": {},
   "outputs": [
    {
     "name": "stdout",
     "output_type": "stream",
     "text": [
      "a.\n",
      "                    value\n",
      "stress_level        50.56\n",
      "total_protein       50.29\n",
      "vitamin             49.93\n",
      "hair_texture        49.86\n",
      "calcium             49.86\n",
      "body_water_content  49.63\n",
      "liver_data          49.60\n",
      "iron                49.58\n",
      "total_keratine      49.51\n",
      "manganese           49.38\n",
      "b.\n",
      "                    value\n",
      "calcium             50.37\n",
      "liver_data          50.33\n",
      "vitamin             50.10\n",
      "body_water_content  49.98\n",
      "iron                49.94\n",
      "total_protein       49.87\n",
      "manganese           49.81\n",
      "total_keratine      49.75\n",
      "stress_level        49.66\n",
      "hair_texture        49.40\n"
     ]
    }
   ],
   "source": [
    "import pandas as pd\n",
    "\n",
    "data = pd.read_csv('data/hair_fail.csv')\n",
    "columns = data.columns[:-1]\n",
    "indexes_a = {}\n",
    "indexes_b = {}\n",
    "\n",
    "def define_probability(sinal, what_quantile, indexes):\n",
    "  for column in columns:\n",
    "    quantile = data[column].quantile(what_quantile)\n",
    "    condition = data[column] > quantile if sinal == \">\" else data[column] < quantile\n",
    "    data_quantile = data[condition]\n",
    "  \n",
    "    total = data_quantile[column].count()\n",
    "  \n",
    "    data_hair_fail = data_quantile[data_quantile[\"hair_fall\"] >= 3]\n",
    "    total_hair_fail = data_hair_fail[column].count()\n",
    "    \n",
    "    indexes[column] = round((total_hair_fail / total) * 100, 2)\n",
    "  return indexes\n",
    "\n",
    "def show_values(question, sinal, quantile, indexes):\n",
    "  print(f\"{question}.\")\n",
    "  indexes = define_probability(sinal, quantile, indexes)\n",
    "  table = pd.DataFrame(indexes.values(), index=indexes.keys(), columns=[\"value\"])\n",
    "  table = table.sort_values(\"value\", ascending=False)\n",
    "  print(table)\n",
    "\n",
    "show_values(\"a\", \">\", 0.75, indexes_a)\n",
    "show_values(\"b\", \"<\", 0.25, indexes_b)"
   ]
  }
 ],
 "metadata": {
  "kernelspec": {
   "display_name": "Python 3",
   "language": "python",
   "name": "python3"
  },
  "language_info": {
   "codemirror_mode": {
    "name": "ipython",
    "version": 3
   },
   "file_extension": ".py",
   "mimetype": "text/x-python",
   "name": "python",
   "nbconvert_exporter": "python",
   "pygments_lexer": "ipython3",
   "version": "3.12.3"
  }
 },
 "nbformat": 4,
 "nbformat_minor": 2
}
