{
 "cells": [
  {
   "cell_type": "markdown",
   "metadata": {},
   "source": [
    "1) \n",
    "a) O que é uma variável aleatória? Dê um exemplo de uma variável aleatória discreta e\n",
    "de uma variável aleatória contínua. Justifique sua resposta.\n",
    "\n",
    "  R: Um valor número, podendo ser uma contagem ou uma medida, associado que assume valores a um conjunto solução de um experimento.\n",
    "\n",
    "  - Discreta: São variáveis que são numeradas, por exemplo, um dado sendo lançado, todos os casos são números naturais no intervalo [1,6].\n",
    "\n",
    "  - Contínuas: São variáveis que são enumeradas, por exemplo, tempo de uma encomenda que pode ser entregue ao cliente em até 60 dias, então o intervalo é de [1, 60]. Pois ela pode ser entregue na metade do dia, ou seja, 40,5 dias, por exemplo.\n",
    "\n",
    "b) O que é uma distribuição discreta de probabilidade? Quais são as duas condições\n",
    "que uma distribuição discreta de probabilidade deve satisfazer?\n",
    "\n",
    "R: São modelos matemáticos que descrevem o comportamento aleatório de uma variável dependendo da sua probabilidade\n",
    "\n",
    "Condições:\n",
    "\n",
    " - 0 <= P(x) <= 1\n",
    "\n",
    " - Somátorio de P(x) = 1\n",
    "\n",
    "c) O valor esperado da distribuição de probabilidade de uma variável aleatória é\n",
    "sempre um dos valores possíveis de x? Explique.\n",
    "\n",
    "R: Não necessariamente. Se tivermos uma moeda honesta, onde as probabilidades são as mesmas, o valor esperado seria 0,5, que é um dos valores possíveis. Mas se tivermos um dado de 6 faces, cada face terá ⅙ de probabilidade, mas seu valor esperado é 7/2, que não está no conjunto {1,2,3,4,5,6}. O valor esperado é mais uma medida para encontrar o “centro da massa \".\n"
   ]
  },
  {
   "cell_type": "markdown",
   "metadata": {},
   "source": [
    "2) Uma revista on-line descobre que o número médio de erros tipográficos por página é de cinco. Determine a probabilidade, utilizando uma distribuição de Poisson, de que o número de erros tipográficos encontrados em qualquer página seja:\n",
    "\n",
    "    a) exatamente cinco\n",
    "    \n",
    "    b) até três\n",
    "\n",
    "    c) menos que cinco\n",
    "\n",
    "    d) mais que cinco\n",
    "\n",
    "    e) exatamente zero\n",
    "\n",
    "    f) entre três e seis"
   ]
  },
  {
   "cell_type": "code",
   "execution_count": 33,
   "metadata": {},
   "outputs": [
    {
     "name": "stdout",
     "output_type": "stream",
     "text": [
      "A 0.1755\n",
      "B 0.265\n",
      "C 0.4405\n",
      "D 0.616\n",
      "E 0.0067\n",
      "F 0.6376\n"
     ]
    }
   ],
   "source": [
    "import math\n",
    "\n",
    "mean = 5\n",
    "\n",
    "def poisson_distributation(x, mean):\n",
    "  return round(((mean**x) * (math.e ** (-mean))) / math.factorial(x), 4)\n",
    "\n",
    "response_a = poisson_distributation(5, mean) \n",
    "print(\"A\", response_a)\n",
    "\n",
    "response_b = 0\n",
    "\n",
    "for number in range(4):\n",
    "  response_b += poisson_distributation(number, mean)\n",
    "  \n",
    "print(\"B\", response_b)\n",
    "\n",
    "response_c = 0\n",
    "\n",
    "response_c = response_b +  poisson_distributation(4, mean)\n",
    "  \n",
    "print(\"C\", response_c)\n",
    "\n",
    "response_d = response_c + response_a\n",
    "\n",
    "print(\"D\", response_d)\n",
    "\n",
    "response_e = poisson_distributation(0, mean)\n",
    "\n",
    "print(\"E\", response_e)\n",
    "\n",
    "response_f = 0\n",
    "\n",
    "for number in range(3, 7):\n",
    "  response_f += poisson_distributation(number, mean)\n",
    "  \n",
    "print(\"F\", response_f)"
   ]
  },
  {
   "cell_type": "markdown",
   "metadata": {},
   "source": [
    "3) Um jogador de basquete tem 90% de chance de acertar um arremesso de 3 pontos. Tendo arremessado 3 vezes e sabendo que os arremessos seguem uma distribuição binomial, qual a probabilidade dele ter acertado exatamente 2 arremessos?"
   ]
  },
  {
   "cell_type": "code",
   "execution_count": null,
   "metadata": {},
   "outputs": [
    {
     "name": "stdout",
     "output_type": "stream",
     "text": [
      "0.243\n"
     ]
    }
   ],
   "source": [
    "def binominal_distributation(x, n, sucess):\n",
    "  fail = 1 - sucess\n",
    "  return round(math.comb(n, x) * (sucess ** x) * (fail ** (n - x)), 4)\n",
    "\n",
    "print(binominal_distributation(2, 3, 0.9))"
   ]
  },
  {
   "cell_type": "markdown",
   "metadata": {},
   "source": [
    "4) Um jogador de futebol acerta o gol de falta cerca de 75% das vezes. Calcule a probabilidade, usando uma distribuição geométrica, de que o primeiro gol de falta seja feito na terceira ou na quarta tentativa."
   ]
  },
  {
   "cell_type": "code",
   "execution_count": null,
   "metadata": {},
   "outputs": [
    {
     "name": "stdout",
     "output_type": "stream",
     "text": [
      "0.0586\n"
     ]
    }
   ],
   "source": [
    "def geometric_distributation(x, n, sucess):\n",
    "  fail = 1 - sucess\n",
    "  return round((sucess ** x) * (fail ** (n - x)), 4)\n",
    "\n",
    "print(geometric_distributation(1, 3, 0.75 ) + geometric_distributation(1, 4, 0.75 ))"
   ]
  },
  {
   "cell_type": "markdown",
   "metadata": {},
   "source": [
    "5) Um sistema de segurança em uma fábrica tem uma probabilidade de 0,02 de disparar um alarme falso a cada hora. Qual é a probabilidade, usando uma distribuição de Poisson, de que o alarme falso dispare pelo menos duas vezes em um dia de 24 horas?"
   ]
  },
  {
   "cell_type": "code",
   "execution_count": 35,
   "metadata": {},
   "outputs": [
    {
     "name": "stdout",
     "output_type": "stream",
     "text": [
      "0.0002\n"
     ]
    }
   ],
   "source": [
    "mean = 0.02\n",
    "\n",
    "print(round(1 - poisson_distributation(0, mean) - poisson_distributation(1, mean), 4) )"
   ]
  },
  {
   "cell_type": "markdown",
   "metadata": {},
   "source": [
    "6) Suponha que o tempo de espera para realizar um exame neurológico em uma\n",
    "determinada clínica tenha distribuição exponencial com média de 5 dias.\n",
    "\n",
    "    a) Qual a probabilidade de alguém esperar mais de 2 dias?\n",
    "\n",
    "    b) Qual a probabilidade de alguém esperar entre 4 e 6 dias?"
   ]
  },
  {
   "cell_type": "code",
   "execution_count": null,
   "metadata": {},
   "outputs": [
    {
     "name": "stdout",
     "output_type": "stream",
     "text": [
      "A 0.6703\n",
      "B 0.1481\n"
     ]
    }
   ],
   "source": [
    "from scipy.integrate import quad\n",
    "\n",
    "value_lambda = 1 / 5 \n",
    "\n",
    "def integrand(x):\n",
    "    return (value_lambda * math.e ** (- value_lambda * x))\n",
    "\n",
    "result_a, error = quad(integrand, 0, 2)\n",
    "result_b, error = quad(integrand, 4, 6)\n",
    "\n",
    "print(\"A\", round(1 - result_a, 4))\n",
    "print(\"B\", round(result_b, 4))"
   ]
  },
  {
   "cell_type": "markdown",
   "metadata": {},
   "source": [
    "7)  Uma fábrica produz lâmpadas, e a probabilidade de uma lâmpada ser defeituosa é de 0,05. Se escolhermos aleatoriamente 10 lâmpadas da produção, qual é a probabilidade de\n",
    "exatamente 3 delas serem defeituosas, assumindo que cada lâmpada é independente e segue uma distribuição de Bernoulli?"
   ]
  },
  {
   "cell_type": "code",
   "execution_count": null,
   "metadata": {},
   "outputs": [
    {
     "name": "stdout",
     "output_type": "stream",
     "text": [
      "0.0105\n"
     ]
    }
   ],
   "source": [
    "print(binominal_distributation(3, 10, 0.05))"
   ]
  },
  {
   "cell_type": "markdown",
   "metadata": {},
   "source": [
    "8) Um vendedor de peças de automóvel descobriu que 1 em cada 100 peças vendidas é defeituosa. Calcule a probabilidade de que:\n",
    "\n",
    "    a) a primeira peça defeituosa seja a décima peça vendida\n",
    "\n",
    "    b) a primeira peça defeituosa seja a primeira, segunda ou terceira peça vendida\n",
    "\n",
    "    c) nenhuma das 10 primeiras peças vendidas seja defeituosa."
   ]
  },
  {
   "cell_type": "code",
   "execution_count": null,
   "metadata": {},
   "outputs": [
    {
     "name": "stdout",
     "output_type": "stream",
     "text": [
      "A 0.0091\n",
      "B 0.0297\n",
      "C 0.9044\n"
     ]
    }
   ],
   "source": [
    "print(\"A\", geometric_distributation(1, 10, 0.01))\n",
    "print(\"B\", geometric_distributation(1, 1, 0.01) + geometric_distributation(1, 2, 0.01) + geometric_distributation(1, 3, 0.01))\n",
    "print(\"C\", geometric_distributation(0, 10, 0.01))"
   ]
  },
  {
   "cell_type": "markdown",
   "metadata": {},
   "source": [
    "9) Um fabricante de cereais coloca uma peça de um jogo em cada uma de suas caixas de\n",
    "cereal. A probabilidade de ganhar um prêmio no jogo é 1 em 4. Determine a probabilidade\n",
    "de que você:\n",
    "\n",
    "    a) ganhe seu primeiro prêmio em sua quarta compra\n",
    "\n",
    "    b) ganhe seu primeiro prêmio em sua primeira, segunda ou terceira compra\n",
    "\n",
    "    c) não ganhe um prêmio em suas quatro primeiras compras."
   ]
  },
  {
   "cell_type": "code",
   "execution_count": null,
   "metadata": {},
   "outputs": [
    {
     "name": "stdout",
     "output_type": "stream",
     "text": [
      "A 0.1055\n",
      "B 0.5781\n",
      "C 0.3164\n"
     ]
    }
   ],
   "source": [
    "print(\"A\", geometric_distributation(1, 4, 0.25))\n",
    "print(\"B\", round(geometric_distributation(1, 1, 0.25) + geometric_distributation(1, 2, 0.25) + geometric_distributation(1, 3, 0.25), 4))\n",
    "print(\"C\", geometric_distributation(0, 4, 0.25))"
   ]
  },
  {
   "cell_type": "markdown",
   "metadata": {},
   "source": [
    "10) Vinte e nove por cento dos universitários com idade entre 18 e 24 anos disseram que\n",
    "romperiam com seus namorados ou namoradas por US$ 10.000. Você seleciona\n",
    "aleatoriamente 7 universitários com idade entre 18 e 24 anos. Calcule a probabilidade de\n",
    "que o número de pessoas que disseram que romperiam com seus namorados ou\n",
    "namoradas por US$ 10.000 seja:\n",
    "\n",
    "    a) exatamente dois\n",
    "\n",
    "    b) mais de três\n",
    "\n",
    "    c) entre um e quatro, inclusive"
   ]
  },
  {
   "cell_type": "code",
   "execution_count": null,
   "metadata": {},
   "outputs": [
    {
     "name": "stdout",
     "output_type": "stream",
     "text": [
      "A 0.3186\n",
      "B 0.1135\n",
      "C 0.8841\n"
     ]
    }
   ],
   "source": [
    "print(\"A\", binominal_distributation(2, 7, 0.29))\n",
    "\n",
    "response_b = 0\n",
    "\n",
    "for number in range(4,8):\n",
    "  response_b += binominal_distributation(number, 7, 0.29)\n",
    "\n",
    "print(\"B\", round(response_b, 4))\n",
    "\n",
    "response_c = 0\n",
    "\n",
    "for number in range(1,5):\n",
    "  response_c += binominal_distributation(number, 7, 0.29)\n",
    "\n",
    "print(\"C\", round(response_c, 4))\n"
   ]
  },
  {
   "cell_type": "markdown",
   "metadata": {},
   "source": [
    "11) Sabendo que o mean time do fail (MTTF) do computador pode ser expresso por uma\n",
    "variável aleatória contínua x, cuja função de densidade é dada por:\n",
    "\n",
    "    f(x) = { 1/2 x, x≥0; 0, para x < 0\n",
    "    \n",
    "    Qual a probabilidade de que o equipamento dure entre 12 e 24 meses."
   ]
  },
  {
   "cell_type": "code",
   "execution_count": null,
   "metadata": {},
   "outputs": [
    {
     "name": "stdout",
     "output_type": "stream",
     "text": [
      "0.75\n"
     ]
    }
   ],
   "source": [
    "from scipy.integrate import quad\n",
    " \n",
    "def integrand(x):\n",
    "    return (1 / 2) * x\n",
    "\n",
    "result, error = quad(integrand, 1, 2)\n",
    "\n",
    "print(round(result, 4))"
   ]
  },
  {
   "cell_type": "markdown",
   "metadata": {},
   "source": [
    "12) Um usuário de Iphone deseja estimar a duração média, por dia, de bateria em um mês de uso. Em uma amostra aleatória de 30 dias, a média encontrada foi de 22.9 horas (considerando o modo standby). Baseado em estudos anteriores feito pela fabricante, o desvio padrão conhecido é de 1.5 horas e a população é normalmente distribuída. Construa um intervalo de confiança de 90% para a média de duração de horas para população.\n",
    "Comprove os cálculos."
   ]
  },
  {
   "cell_type": "code",
   "execution_count": null,
   "metadata": {},
   "outputs": [
    {
     "name": "stdout",
     "output_type": "stream",
     "text": [
      "[22.81, 22.99]\n"
     ]
    }
   ],
   "source": [
    "def confidence_interval(mean, dispersion, n):\n",
    "  part_right = 1.645 * (dispersion / ((30 * 24) ** 0.5 ))\n",
    "  \n",
    "  return(round(mean - part_right, 2), round(mean + part_right, 2))\n",
    "\n",
    "print(list(confidence_interval(22.9, 1.5, 30)))\n"
   ]
  },
  {
   "cell_type": "markdown",
   "metadata": {},
   "source": [
    "13) O salário médio de um professor é de 27989 reais/ano. Assuma que a distribuição é\n",
    "normal com um desvio padrão de 3250 reais.\n",
    "\n",
    "    a) Qual a probabilidade de um professor fazer entre 20000 e 30000 por ano?\n",
    "\n",
    "    b) Qual a probabilidade de um professor ter um salário menor que 20000?"
   ]
  },
  {
   "cell_type": "code",
   "execution_count": null,
   "metadata": {},
   "outputs": [
    {
     "name": "stdout",
     "output_type": "stream",
     "text": [
      "A 0.725\n",
      "B 0.007\n"
     ]
    }
   ],
   "source": [
    "from scipy.stats import norm\n",
    "\n",
    "mean = 27989 \n",
    "dispersion = 3250  \n",
    "\n",
    "probability = norm.cdf((30000 - mean) / dispersion) - norm.cdf((20000 - mean) / dispersion)\n",
    "\n",
    "print(\"A\", round(probability, 4))\n",
    "\n",
    "probability = norm.cdf((20000 - mean) / dispersion)\n",
    "\n",
    "print(\"B\", round(probability, 4))\n"
   ]
  },
  {
   "cell_type": "markdown",
   "metadata": {},
   "source": [
    "14) Suponha que o tempo que leva para uma máquina apresentar defeitos, em horas, segue uma distribuição exponencial com uma taxa de falha de λ = 0,02 falhas por hora.\n",
    "\n",
    "    a) Qual é a probabilidade da máquina não apresentar defeitos nas primeiras 50 horas?\n",
    "\n",
    "    b) Qual é a probabilidade da máquina apresentar defeitos nas primeiras 24 horas?"
   ]
  },
  {
   "cell_type": "code",
   "execution_count": 28,
   "metadata": {},
   "outputs": [
    {
     "name": "stdout",
     "output_type": "stream",
     "text": [
      "A 0.3679\n",
      "B 0.3812\n"
     ]
    }
   ],
   "source": [
    "from scipy.integrate import quad\n",
    "import math\n",
    "\n",
    "def exponencial_model(x):\n",
    "  return 0.02 * (math.e ** -(0.02 * x))\n",
    "\n",
    "result_a, error = quad(exponencial_model, 0, 50)\n",
    "result_a = round( 1 - result_a, 4)\n",
    "\n",
    "print(\"A\", result_a)\n",
    "\n",
    "result_b, error = quad(exponencial_model, 0, 24)\n",
    "result_b = round(result_b, 4)\n",
    "\n",
    "print(\"B\", result_b)"
   ]
  },
  {
   "cell_type": "markdown",
   "metadata": {},
   "source": [
    "15) Um aluno da turma IF971 realizou testes em smartphones de modelos diferentes e observou que o tempo de vida (em modo standby) em horas segue uma variável aleatória contínua com função de densidade de probabilidade definida por\n",
    "\n",
    "    f(t) = {0.01e^−0.01t, se x≥0; 0, se x < 0\n",
    "\n",
    "    Escolhendo aleatoriamente um deles, qual a probabilidade de durar menos de 50 horas?"
   ]
  },
  {
   "cell_type": "code",
   "execution_count": 30,
   "metadata": {},
   "outputs": [
    {
     "name": "stdout",
     "output_type": "stream",
     "text": [
      "0.3874\n"
     ]
    }
   ],
   "source": [
    "def question_function(t):\n",
    "  return 0.01 * (math.e ** -(0.01 * t)) \n",
    "\n",
    "result, error = quad(question_function, 0, 49)\n",
    "\n",
    "print(round(result, 4))"
   ]
  },
  {
   "cell_type": "markdown",
   "metadata": {},
   "source": [
    "EXTRA\n",
    "Durante um teste de resistência ao esmagamento é conduzido um experimento que consiste em tentar esmagar diferentes tijolos em sequência até que um primeiro não resista, seguindo uma distribuição geométrica. Sabe-se que cada tijolo unitário tem probabilidade igual a 0.2 de ser esmagado e que as tentativas individuais dentro de uma sequência são independentes. Considere: X = “sejam necessários x tijolos para encerrar a sequência”\n",
    "\n",
    "a) Determine a distribuição de probabilidade da variável aleatória X.\n",
    "\n",
    "b) Qual a probabilidade de que sejam necessários 3 ou mais tijolos para encerrar uma sequência?\n",
    "\n",
    "c) Qual a probabilidade de que uma sequência se encerre utilizando um número par de tijolos?"
   ]
  },
  {
   "cell_type": "code",
   "execution_count": null,
   "metadata": {},
   "outputs": [
    {
     "name": "stdout",
     "output_type": "stream",
     "text": [
      "A 0.8^(x-1) * 0.2\n",
      "B 0.39\n",
      "C 0.31\n"
     ]
    }
   ],
   "source": [
    "def geometric_distributation(x, n, sucess):\n",
    "  fail = 1 - sucess\n",
    "  return round((sucess ** x) * (fail ** (n - x)), 4)\n",
    "\n",
    "print(\"A\", f\"{1-0.2}^(x-1) * 0.2\")\n",
    "\n",
    "response_b = 0\n",
    "for number in range(3):\n",
    "  response_b += geometric_distributation(1, number, 0.2)\n",
    "  \n",
    "print(\"B\", 1 - response_b)\n",
    "\n",
    "\n",
    "# Fiz empiricamente, n sei se tem forma melhor de fazer\n",
    "response_c = 0\n",
    "for number in range(0,20000,2):\n",
    "  response_c += geometric_distributation(1, number, 0.2)\n",
    "  \n",
    "print(\"C\", round(1 - response_c, 2))\n",
    "\n",
    "\n",
    "  "
   ]
  }
 ],
 "metadata": {
  "kernelspec": {
   "display_name": "Python 3",
   "language": "python",
   "name": "python3"
  },
  "language_info": {
   "codemirror_mode": {
    "name": "ipython",
    "version": 3
   },
   "file_extension": ".py",
   "mimetype": "text/x-python",
   "name": "python",
   "nbconvert_exporter": "python",
   "pygments_lexer": "ipython3",
   "version": "3.12.3"
  }
 },
 "nbformat": 4,
 "nbformat_minor": 2
}
