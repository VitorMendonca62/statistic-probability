{
 "cells": [
  {
   "cell_type": "markdown",
   "metadata": {},
   "source": [
    "1) Numa urna, há 5 bolas vermelhas, 3 bolas azuis e 2 bolas verdes. Duas bolas são\n",
    "retiradas, sem reposição. Qual é a probabilidade de ambas as bolas retiradas serem de\n",
    "cores diferentes e que a primeira bola seja da cor vermelha?"
   ]
  },
  {
   "cell_type": "markdown",
   "metadata": {},
   "source": [
    "\n",
    "Há 10 bolas no total, 5 são vermelhas, a probabilidade da primeira bola sair é ou 5/10 ou 1/2.\n",
    "\n",
    "Agora são 9 no total, 4 são vermelhas e 5 outras cores, aprobabilidade da segunda bola sair de outra cor depois da primeira bola ser vermelha é de 5/9.\n",
    "\n",
    "E a probabilidade da primeira bola ser vermelha e a segunda não ser é de 1/2 * 5/9 = 5/18.\n"
   ]
  },
  {
   "cell_type": "markdown",
   "metadata": {},
   "source": [
    "2) Considerando todos os funcionários de um setor de um órgão público que possuem nível superior, verificou-se que 20% são economistas, 30% são contadores e o restante são administradores. Sabe-se que, destes funcionários, 30% dos economistas são formados pela UFPE, 40% dos contadores são formados pela UFPE e 72% dos administradores são\n",
    "formados pela UFPE. Escolhendo um funcionário deste setor aleatoriamente, a probabilidade de ele ser economista, dado que não é formado pela UFPE, é igual a:\n",
    "\n",
    "a) 7/23\n",
    "\n",
    "b) 24/54\n",
    "\n",
    "c) 0,14\n",
    "\n",
    "d) 10,8/34\n",
    "\n",
    "e) 25/16"
   ]
  },
  {
   "cell_type": "code",
   "execution_count": 2,
   "metadata": {},
   "outputs": [
    {
     "name": "stdout",
     "output_type": "stream",
     "text": [
      "Probability 30.43 %`\n"
     ]
    }
   ],
   "source": [
    "not_study_in_ufpe = 0.2 * 0.7 + 0.3 * 0.6 + 0.5 * 0.28\n",
    "\n",
    "economist_not_study_in_ufpe = 0.2 * 0.7\n",
    "\n",
    "probability = economist_not_study_in_ufpe / not_study_in_ufpe\n",
    "\n",
    "print(f\"Probability {(probability * 100):.2f} %\")\n"
   ]
  },
  {
   "cell_type": "markdown",
   "metadata": {},
   "source": [
    "3) Seja uma declaração feita num programa em JavaScript:\n",
    "```javascript\n",
    "if (B) {\n",
    "s1;\n",
    "} else {\n",
    "s2;\n",
    "}\n",
    "```\n",
    "Sabendo que foi conduzido o experimento aleatório de duas execuções sucessivas desta\n",
    "declaração, dado que A = {pelo menos uma execução de s1}; B = {a declaração s2 é\n",
    "executada pela primeira vez}, responda:\n",
    "\n",
    "a) Qual o espaço amostral do experimento?\n",
    "\n",
    "b) Calcule P(A) e P(B)."
   ]
  },
  {
   "cell_type": "markdown",
   "metadata": {},
   "source": [
    "a) {(s1, s2), (s2, s1), (s2, s2) , (s1, s1)}\n",
    "\n",
    "b) 3/4 e 1/2"
   ]
  },
  {
   "cell_type": "markdown",
   "metadata": {},
   "source": [
    "4) Seja y uma v.a. com função de densidade dada por:\n",
    "f(y) = { k(3y - y2), se y ∈ (0,3); 0 se y ∉ (0, 3)\n",
    "\n",
    "a) Qual o valor de k?\n",
    "\n",
    "b) Calcule P(y<2)."
   ]
  },
  {
   "cell_type": "markdown",
   "metadata": {},
   "source": [
    "![a](assets/2.4a.png)\n",
    "\n",
    "![a](assets/2.4b.png)"
   ]
  },
  {
   "cell_type": "markdown",
   "metadata": {},
   "source": [
    "5) Você e seu amigo estão jogando dungeons and dragons e, ao se encontrar com um troll\n",
    "enfurecido - chamado Shrek - você joga um dado de 20 faces não viciado para descobrir o\n",
    "destino de vocês. Nesse cenário, calcule a probabilidade de:\n",
    "\n",
    "a) você tirar um 16 ou mais\n",
    "\n",
    "b) O resultado ser menor que 5"
   ]
  },
  {
   "cell_type": "code",
   "execution_count": 5,
   "metadata": {},
   "outputs": [
    {
     "name": "stdout",
     "output_type": "stream",
     "text": [
      "A. 25.00\n",
      "B. 20.00\n"
     ]
    }
   ],
   "source": [
    "numbers = [i for i in range(1,21) ]\n",
    "\n",
    "biggeres_16 = [number for number in numbers if number >= 16]\n",
    "smaller_5 = [number for number in numbers if number < 5]\n",
    "\n",
    "\n",
    "print(f\"A. {((len(biggeres_16) / len(numbers)) * 100):.2f}\")\n",
    "print(f\"B. {((len(smaller_5) / len(numbers)) * 100):.2f}\")"
   ]
  },
  {
   "cell_type": "markdown",
   "metadata": {},
   "source": [
    "6) Você está num casino em Las Vegas e decide apostar num jogo de roleta. Essa roleta\n",
    "honesta contém 6 números, sendo que 3 são positivos, 2 são negativos e 1 é igual a zero. A\n",
    "roleta será rodada duas vezes e, caso o resultado do produto dos números obtidos nas\n",
    "duas rodadas seja não negativo, vocês ganharão uma viagem com tudo pago para o Nepal.\n",
    "Qual a probabilidade de vocês ganharem a viagem?"
   ]
  },
  {
   "cell_type": "markdown",
   "metadata": {},
   "source": [
    "Probabilidade de sair um positivo: 3/6 ou 1/2\n",
    "Probabilidade de sair um negativo: 2/6 ou 1/3\n",
    "\n",
    "A probabilidade dos dois cenários são as mesmas: 1/6 , pois:\n",
    "1/2 * 1/3 = 1/6 e vice-versa\n",
    "\n",
    "Logo, a probabilidade do primeiro seja positivo e o segundo seja negativo ou o primeiro seja negativo e o segundo positivo é de 1/6 + 1/6 = 2/6 ou 1/3\n",
    "\n",
    "Então, a probabilidade dele ganhar é de  2/3, já que  3/3 - 1/3 = 2/3"
   ]
  },
  {
   "cell_type": "markdown",
   "metadata": {},
   "source": [
    "7) Uma aluna de Sistemas da Informação estuda numa turma de 50 alunos. Em um dia,\n",
    "essa turma foi dividida em três salas, A, B e C, de acordo com a capacidade das salas. Na\n",
    "sala A ficaram 10 alunos, na B, outros 12 alunos e na C, 28 alunos. Será feito um sorteio no\n",
    "qual, primeiro, será sorteada uma sala e, posteriormente, será sorteado um aluno dessa\n",
    "sala. Qual é a probabilidade de aquela aluna específica ser sorteada, sabendo que ela está\n",
    "na sala C?\n",
    "\n",
    "a) 1/3\n",
    "\n",
    "b) 2/42\n",
    "\n",
    "c) 1/40\n",
    "\n",
    "d) 1/84\n",
    "\n",
    "e) nenhuma das alternativas"
   ]
  },
  {
   "cell_type": "code",
   "execution_count": 7,
   "metadata": {},
   "outputs": [
    {
     "name": "stdout",
     "output_type": "stream",
     "text": [
      "Probability is 1.19\n"
     ]
    }
   ],
   "source": [
    "room_lucky = 1 / 3\n",
    "student_lucky = 1 / 28\n",
    "\n",
    "probability = room_lucky * student_lucky\n",
    "\n",
    "print(f\"Probability is {(probability*100):.2f}\")"
   ]
  },
  {
   "cell_type": "markdown",
   "metadata": {},
   "source": [
    "8) No Cin, a probabilidade de um aluno compreender e falar inglês é de 40%. Dois alunos\n",
    "estão concorrendo a uma bolsa de intercâmbio e estão esperando em uma sala para serem\n",
    "chamados para uma entrevista. Mas, ao invés de chamá-los um a um, o entrevistador entra\n",
    "na sala e faz, oralmente, uma pergunta em inglês que pode ser respondida por qualquer um\n",
    "dos alunos. A probabilidade de o entrevistador ser entendido e ter sua pergunta oralmente\n",
    "respondida em inglês é:\n",
    "\n",
    "a) 23,7/100\n",
    "\n",
    "b) 40,0% 888\n",
    "\n",
    "c) 44,1%\n",
    "\n",
    "d) 84%\n",
    "\n",
    "e) 0,64"
   ]
  },
  {
   "cell_type": "markdown",
   "metadata": {},
   "source": [
    "Probabilidade de não compreender ou falar inglês: 0.6\n",
    "\n",
    "Probabilidade de duas pessoas não compreenderem ou falarem inglês: 0.6 * 0.6 = 0.36\n",
    "\n",
    "Probabilidade do entrevistador ser entendido e ter sua pergunta oralmente respondida em\n",
    "inglês é: 1 - 0.36 = 0.64"
   ]
  },
  {
   "cell_type": "markdown",
   "metadata": {},
   "source": [
    "9) Considere a seguinte distribuição de probabilidade para o tempo (em dias) que um\n",
    "estudante leva para concluir um determinado projeto, determine o número esperado de dias\n",
    "para conclusão da atividade, assim como a variância e o desvio padrão.\n",
    "\n",
    "| x | P(x) |\n",
    "|---|----|\n",
    "|1 |0.3 |\n",
    "| 2|0.4 |\n",
    "|3 |0.2 |\n",
    "| 4| 0.1|"
   ]
  },
  {
   "cell_type": "code",
   "execution_count": 11,
   "metadata": {},
   "outputs": [
    {
     "name": "stdout",
     "output_type": "stream",
     "text": [
      "Expected value 2.1\n",
      "Variance 0.89\n",
      "Deviation 0.94\n"
     ]
    }
   ],
   "source": [
    "probabilities = {\n",
    "  \"1\": 0.3,\n",
    "  \"2\": 0.4,\n",
    "  \"3\": 0.2,\n",
    "  \"4\": 0.1,\n",
    "}\n",
    "\n",
    "expected_value = 0\n",
    "\n",
    "for key in probabilities:\n",
    "  expected_value += probabilities[key] * int(key)\n",
    "\n",
    "variance = 0\n",
    "\n",
    "for key in probabilities:\n",
    "  variance += ((int(key) - expected_value) ** 2) * probabilities[key]\n",
    "\n",
    "deviation = variance ** ( 1 / 2)\n",
    "\n",
    "print(f\"Expected value\", expected_value)\n",
    "print(f\"Variance\", variance)\n",
    "print(f\"Deviation {deviation:.2f}\")\n"
   ]
  },
  {
   "cell_type": "markdown",
   "metadata": {},
   "source": [
    "10) A segunda questão do teste de estatística apresenta grau médio de dificuldade.\n",
    "Katharian tem 85% de chance de resolvê-la, e Luís tem 70% de probabilidade de não\n",
    "resolvê-la. Se eles tentam resolver a questão de modo independente, qual será a\n",
    "probabilidade de que a questão seja resolvida?"
   ]
  },
  {
   "cell_type": "markdown",
   "metadata": {},
   "source": [
    "Probabilidades de não resolverem: 0.15 * 0.7 = 0.105\n",
    "Probabilidade de resolvem: 1 - 0.105 = 0.895"
   ]
  },
  {
   "cell_type": "markdown",
   "metadata": {},
   "source": [
    "EXTRA\n",
    "Você é estudante de Sistemas de Informação e quer saber qual a probabilidade de 2\n",
    "pessoas da sua turma fazerem aniversário no mesmo dia.\n",
    "\n",
    "a) Qual a probabilidade se tem 24 alunos na sua turma? (você incluso)\n",
    "\n",
    "b) Qual a probabilidade se tem 50 alunos na sua turma? (você incluso)\n",
    "\n",
    "c) Explique a variação de probabilidade nos 2 casos anteriores."
   ]
  },
  {
   "cell_type": "code",
   "execution_count": 21,
   "metadata": {},
   "outputs": [
    {
     "name": "stdout",
     "output_type": "stream",
     "text": [
      "24:  53.83 %\n",
      "50:  97.04 %\n",
      "A probabilidade vai depender do n, quanto maior for o n, menor será o A\n",
      " e maior será o B. Como o A cresce exponencialmente, ele fará mais diferença\n",
      " no produto, sendo assim, quanto maior o n, maior será a probabilidade de\n",
      " 2 pessoas fazerem aniversário no mesmo dia\n"
     ]
    }
   ],
   "source": [
    "import math\n",
    "\n",
    "def define_probability(n):\n",
    "    A = (1 / 365) ** n\n",
    "    array = range(366 - n, 366)\n",
    "\n",
    "    B = math.prod(array)\n",
    "\n",
    "    A *= B\n",
    "\n",
    "    print(f\"{n}: \",round((1 - A) * 100, 2), \"%\")\n",
    "\n",
    "define_probability(24)\n",
    "define_probability(50)\n",
    "\n",
    "print(\"A probabilidade vai depender do n, quanto maior for o n, menor será o A\\n e maior será o B. Como o A cresce exponencialmente, ele fará mais diferença\\n no produto, sendo assim, quanto maior o n, maior será a probabilidade de\\n 2 pessoas fazerem aniversário no mesmo dia\")"
   ]
  }
 ],
 "metadata": {
  "kernelspec": {
   "display_name": "Python 3",
   "language": "python",
   "name": "python3"
  },
  "language_info": {
   "codemirror_mode": {
    "name": "ipython",
    "version": 3
   },
   "file_extension": ".py",
   "mimetype": "text/x-python",
   "name": "python",
   "nbconvert_exporter": "python",
   "pygments_lexer": "ipython3",
   "version": "3.12.3"
  }
 },
 "nbformat": 4,
 "nbformat_minor": 2
}
