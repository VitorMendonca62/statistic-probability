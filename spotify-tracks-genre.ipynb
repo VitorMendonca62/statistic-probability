{
 "cells": [
  {
   "cell_type": "code",
   "execution_count": 15,
   "metadata": {},
   "outputs": [],
   "source": [
    "import pandas as pd\n",
    "\n",
    "data = pd.read_csv(\"data/spotify-tracks-genre.csv\")\n",
    "\n",
    "length = data[\"Unnamed: 0\"].count()"
   ]
  },
  {
   "cell_type": "code",
   "execution_count": 16,
   "metadata": {},
   "outputs": [],
   "source": [
    "def remove_colon(data):\n",
    "  columns = [\n",
    "  \"energy\", \"danceability\", \"loudness\", \"speechiness\",\n",
    "  \"acousticness\", \"instrumentalness\",\n",
    "  \"liveness\", \"valence\", \"tempo\"]\n",
    "  \n",
    "  for column in columns:\n",
    "    data[column] = (data[column].str.replace(\",\", \".\")).astype(\"float64\")\n",
    "    \n",
    "  return data\n",
    "\n",
    "data = remove_colon(data)"
   ]
  },
  {
   "cell_type": "markdown",
   "metadata": {},
   "source": [
    "1. Qual o ritmo mais popular?"
   ]
  },
  {
   "cell_type": "code",
   "execution_count": 17,
   "metadata": {},
   "outputs": [
    {
     "name": "stdout",
     "output_type": "stream",
     "text": [
      "Total pop-film 59283\n",
      "Mean pop-film 59.28\n",
      "Median pop 66.0\n"
     ]
    }
   ],
   "source": [
    "popularity = {}\n",
    "\n",
    "genres = data[\"track_genre\"].unique()\n",
    "\n",
    "bigger_total_genre = \"\"\n",
    "bigger_total_popularity = 0\n",
    "\n",
    "bigger_mean_genre = \"\"\n",
    "bigger_mean_popularity = 0\n",
    "\n",
    "bigger_median_genre = \"\"\n",
    "bigger_median_popularity = 0\n",
    "\n",
    "for genre in genres:\n",
    "  all_musics_genre = data[data[\"track_genre\"] == genre]\n",
    "  sum_popularity = all_musics_genre[\"popularity\"].sum()\n",
    "  mean_popularity = round(all_musics_genre[\"popularity\"].mean(), 2)\n",
    "  median_popularity = round(all_musics_genre[\"popularity\"].median(), 2)\n",
    "  \n",
    "  if sum_popularity > bigger_total_popularity:\n",
    "    bigger_total_genre = genre\n",
    "    bigger_total_popularity = sum_popularity\n",
    "    \n",
    "  if mean_popularity > bigger_mean_popularity:\n",
    "    bigger_mean_genre = genre\n",
    "    bigger_mean_popularity = mean_popularity\n",
    "    \n",
    "  if median_popularity > bigger_median_popularity:\n",
    "    bigger_median_genre = genre\n",
    "    bigger_median_popularity = median_popularity\n",
    "    \n",
    "\n",
    "print(\"Total\", bigger_total_genre, bigger_total_popularity)\n",
    "print(\"Mean\", bigger_mean_genre, bigger_mean_popularity)\n",
    "print(\"Median\", bigger_median_genre, bigger_median_popularity)"
   ]
  },
  {
   "cell_type": "markdown",
   "metadata": {},
   "source": [
    "2. Qual a probabilidade de uma música ser popular (>P70) se ela for do ritmo mais popular?\n",
    "\n",
    "Qual a proporção que as músicas do ritmo mais popular representam dentre as músicas populares?\n"
   ]
  },
  {
   "cell_type": "code",
   "execution_count": 18,
   "metadata": {},
   "outputs": [
    {
     "name": "stdout",
     "output_type": "stream",
     "text": [
      "a. 94.60%\n",
      "b. 3.06\n"
     ]
    }
   ],
   "source": [
    "all_pop_film = data[data[\"track_genre\"] == bigger_total_genre]\n",
    "length_pop_film = all_pop_film[\"track_genre\"].count()\n",
    "\n",
    "p70 = data[\"popularity\"].quantile(0.70)\n",
    "p70_pop_film = all_pop_film[all_pop_film[\"popularity\"] > p70]\n",
    "length_p70_pop_film = p70_pop_film[\"track_genre\"].count()\n",
    "\n",
    "print(f\"a. {((length_p70_pop_film / length_pop_film) * 100):.2f}%\")\n",
    "\n",
    "popularity_musics = data[data[\"popularity\"] > p70]\n",
    "length_popularity_musics = popularity_musics[\"popularity\"].count()\n",
    "\n",
    "print(f\"b. {((length_pop_film / length_popularity_musics) * 100):.2f}\")"
   ]
  },
  {
   "cell_type": "markdown",
   "metadata": {},
   "source": [
    "3. Qual a probabilidade de uma música não ser explícita ou não possuir dançabilidade entre 0,5 e 0,6, nem ter menos de 3 minutos de duração."
   ]
  },
  {
   "cell_type": "code",
   "execution_count": 19,
   "metadata": {},
   "outputs": [
    {
     "name": "stdout",
     "output_type": "stream",
     "text": [
      "70.59%\n"
     ]
    }
   ],
   "source": [
    "explicits = data[data[\"explicit\"] == False]\n",
    "length_explicits = explicits[\"explicit\"].count()\n",
    "prob_explicits = length_explicits / length\n",
    "\n",
    "danceabilities = data[data[\"danceability\"] > 0.5]\n",
    "danceabilities = danceabilities[danceabilities[\"danceability\"] < 0.6]\n",
    "length_danceabilities = length - danceabilities[\"danceability\"].count()\n",
    "prob_danceabilities = length_danceabilities / length\n",
    "\n",
    "two_and = danceabilities[danceabilities[\"explicit\"] == False]\n",
    "length_two_and = length_explicits - two_and[\"explicit\"].count() # 81545\n",
    "prob_tow_and = length_two_and / length \n",
    "\n",
    "duration = data[data[\"duration_ms\"] >= 180000]\n",
    "prob_duration = duration[\"duration_ms\"].count() / length\n",
    "\n",
    "print(f\"{((((prob_explicits + prob_danceabilities) - prob_tow_and) * prob_duration) * 100):.2f}%\")\n"
   ]
  },
  {
   "cell_type": "markdown",
   "metadata": {},
   "source": [
    "4. Dentre os traços (duration_ms, danceability, energy, key, loudness, speechiness, acousticness, instrumentalness, liveness, valence, tempo) qual é mais provável de indicar uma música popular caso:\n",
    "\n",
    "a. esteja abaixo do primeiro quartil?\n",
    "\n",
    "b. esteja acima do terceiro quartil?\n",
    "\n",
    "c. esteja dentro de ±25% do segundo quartil?\n"
   ]
  },
  {
   "cell_type": "code",
   "execution_count": 20,
   "metadata": {},
   "outputs": [
    {
     "name": "stdout",
     "output_type": "stream",
     "text": [
      "a. speechiness: 32.05% \n",
      "b. loudness: 30.30% \n",
      "b. duration_ms: 32.94% \n"
     ]
    }
   ],
   "source": [
    "def define_probability(question, quantile_value, sinal, between):\n",
    "  keys = [\n",
    "  \"duration_ms\", \"danceability\", \"energy\",\n",
    "  \"key\", \"loudness\", \"speechiness\",\n",
    "  \"acousticness\", \"instrumentalness\",\n",
    "  \"liveness\", \"valence\", \"tempo\"]\n",
    "  \n",
    "  bigger_name = \"\" \n",
    "  bigger_prob = 0\n",
    "  for key in keys:\n",
    "    if not between:\n",
    "      quantile = data[key].quantile(quantile_value)\n",
    "      condition = data[key] < quantile if sinal == \"<\" else data[key] > quantile\n",
    "      quantile_data = data[condition]\n",
    "    \n",
    "    if between:\n",
    "      first_quantile = data[key].quantile(0.25)\n",
    "      second_quantile = data[key].quantile(0.5)\n",
    "      third_quarile = data[key].quantile(0.75)\n",
    "\n",
    "      limit_down = second_quantile - 0.25 * (second_quantile - first_quantile)\n",
    "      limit_up = second_quantile + 0.25 * (third_quarile - second_quantile)\n",
    "      \n",
    "      condition_up = data[key] < limit_up\n",
    "      quantile_data = data[condition_up]\n",
    "      \n",
    "      condition_down = quantile_data[key] > limit_down\n",
    "      quantile_data = quantile_data[condition_down]\n",
    "          \n",
    "    popularity_music = quantile_data[quantile_data[\"popularity\"] > p70]\n",
    "    \n",
    "    length_popularity_music = popularity_music[\"Unnamed: 0\"].count()\n",
    "    length_quantile = quantile_data[\"Unnamed: 0\"].count()\n",
    "    prob_first =  length_popularity_music / length_quantile if length_quantile != 0 else 0\n",
    "    prob_first *= 100\n",
    "    \n",
    "    if prob_first > bigger_prob:\n",
    "      bigger_name = key\n",
    "      bigger_prob = prob_first\n",
    "      \n",
    "  print(f\"{question}. {bigger_name}: {bigger_prob:.2f}% \")\n",
    "    \n",
    "define_probability(\"a\", 0.25, \"<\", False)\n",
    "define_probability(\"b\", 0.75, \">\", False)\n",
    "define_probability(\"b\", 0, \">\", True)"
   ]
  }
 ],
 "metadata": {
  "kernelspec": {
   "display_name": "Python 3",
   "language": "python",
   "name": "python3"
  },
  "language_info": {
   "codemirror_mode": {
    "name": "ipython",
    "version": 3
   },
   "file_extension": ".py",
   "mimetype": "text/x-python",
   "name": "python",
   "nbconvert_exporter": "python",
   "pygments_lexer": "ipython3",
   "version": "3.12.3"
  }
 },
 "nbformat": 4,
 "nbformat_minor": 2
}
