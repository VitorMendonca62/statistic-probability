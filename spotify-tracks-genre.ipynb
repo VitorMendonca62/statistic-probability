{
 "cells": [
  {
   "cell_type": "markdown",
   "metadata": {},
   "source": [
    "1. Qual a probabilidade de uma música não ser explícita ou não possuir dançabilidade entre 0,5 e 0,6, nem ter menos de 3 minutos de duração."
   ]
  },
  {
   "cell_type": "code",
   "execution_count": 6,
   "metadata": {},
   "outputs": [
    {
     "name": "stdout",
     "output_type": "stream",
     "text": [
      "{'pop-film': 59283}\n"
     ]
    }
   ],
   "source": [
    "import csv\n",
    "\n",
    "data = open(\"data/spotify-tracks-genre.csv\", mode=\"r\" ,encoding=\"utf8\")\n",
    "data = csv.DictReader(data)\n",
    "data = list(data)\n",
    "\n",
    "tamanho = len(data)\n",
    "\n",
    "popularidades_ritmos = {}\n",
    "\n",
    "for linha in data:\n",
    "  if linha[\"track_genre\"] in popularidades_ritmos:\n",
    "    popularidades_ritmos[linha[\"track_genre\"]] += int(linha[\"popularity\"])\n",
    "  else:\n",
    "    popularidades_ritmos[linha[\"track_genre\"]] = int(linha[\"popularity\"])\n",
    "\n",
    "  maior = {\"_\": 0}\n",
    "\n",
    "  for key in popularidades_ritmos:\n",
    "    valor = list(maior.items())[0][1]\n",
    "\n",
    "    if popularidades_ritmos[key] > valor:\n",
    "      maior = {key:popularidades_ritmos[key] }\n",
    "\n",
    "print(maior)"
   ]
  },
  {
   "cell_type": "markdown",
   "metadata": {},
   "source": [
    "2. Qual a probabilidade de uma música ser popular (>P70) se ela for do ritmo mais popular?\n",
    "\n",
    "Qual a proporção que as músicas do ritmo mais popular representam dentre as músicas populares?\n"
   ]
  },
  {
   "cell_type": "code",
   "execution_count": 13,
   "metadata": {},
   "outputs": [
    {
     "name": "stdout",
     "output_type": "stream",
     "text": [
      "Probabilidade 94.6 %\n",
      "Proporcao: 3.06\n"
     ]
    }
   ],
   "source": [
    "import csv\n",
    "from statistics import quantiles\n",
    "\n",
    "data = open(\"data/spotify-tracks-genre.csv\", mode=\"r\" ,encoding=\"utf8\")\n",
    "data = csv.DictReader(data)\n",
    "data = list(data)\n",
    "\n",
    "tamanho = len(data)\n",
    "popularide = []\n",
    "mais_popular_ritmo = []\n",
    "tamanho_mais_populares = 0\n",
    "tamanho_mais_popular_ritmo = 0\n",
    "\n",
    "for i in range(tamanho):\n",
    "  linha = data[i]\n",
    "  \n",
    "  popularide.append(float(linha[\"popularity\"]))\n",
    "\n",
    "  if linha[\"track_genre\"] == \"pop-film\":\n",
    "    mais_popular_ritmo.append(linha)\n",
    "    tamanho_mais_popular_ritmo += 1\n",
    "  \n",
    "  if float(linha[\"popularity\"]) > 47:\n",
    "    tamanho_mais_populares += 1    \n",
    "    \n",
    "percentil = quantiles(popularide, n=100)[69]\n",
    "\n",
    "count = 0\n",
    "\n",
    "for popular in mais_popular_ritmo:\n",
    "  if float(popular[\"popularity\"]) > percentil:\n",
    "    count += 1\n",
    "    \n",
    "print(\"Probabilidade\",round((count / tamanho_mais_popular_ritmo) * 100, 2), \"%\")\n",
    "print(f\"Proporcao: {((tamanho_mais_popular_ritmo / tamanho_mais_populares) * 100):.2f}\")"
   ]
  },
  {
   "cell_type": "markdown",
   "metadata": {},
   "source": [
    "3. Qual a probabilidade de uma música não ser explícita ou não possuir dançabilidade entre 0,5 e 0,6, nem ter menos de 3 minutos de duração.\n"
   ]
  },
  {
   "cell_type": "code",
   "execution_count": 5,
   "metadata": {},
   "outputs": [
    {
     "name": "stdout",
     "output_type": "stream",
     "text": [
      "70.57 %\n"
     ]
    }
   ],
   "source": [
    "import csv\n",
    "\n",
    "data = open(\"data/spotify-tracks-genre.csv\", mode=\"r\" ,encoding=\"utf8\")\n",
    "data = csv.DictReader(data)\n",
    "data = list(data)\n",
    "\n",
    "tamanho = len(data)\n",
    "count_1 = 0\n",
    "count_2 = 0\n",
    "\n",
    "for i in range(tamanho):\n",
    "  linha = data[i]\n",
    "\n",
    "  e_explicito = linha[\"explicit\"] != \"FALSE\"\n",
    "\n",
    "  dancabilidade = float(linha[\"danceability\"].replace(\",\", \".\"))\n",
    "  danca_entre = dancabilidade > 0.5 and dancabilidade < 0.6\n",
    "\n",
    "  duracao = float(linha[\"duration_ms\"]) / 60000\n",
    "  tem_3_minutos = duracao <= 3\n",
    "\n",
    "  if (not e_explicito or not danca_entre) and not tem_3_minutos:\n",
    "    count_1 += 1\n",
    "\n",
    "\n",
    "print(round((count_1 / tamanho) * 100, 2), \"%\")"
   ]
  },
  {
   "cell_type": "markdown",
   "metadata": {},
   "source": [
    "4. Dentre os traços (duration_ms, danceability, energy, key, loudness, speechiness, acousticness, instrumentalness, liveness, valence, tempo) qual é mais provável de indicar uma música popular caso:\n",
    "\n",
    "a. esteja abaixo do primeiro quartil?\n",
    "\n",
    "b. esteja acima do terceiro quartil?\n",
    "\n",
    "c. esteja dentro de ±25% do segundo quartil?\n"
   ]
  },
  {
   "cell_type": "code",
   "execution_count": 7,
   "metadata": {},
   "outputs": [
    {
     "name": "stdout",
     "output_type": "stream",
     "text": [
      "a. Traço: speechiness; Porcentagem: 32.050%\n",
      "b. Traço: loudness; Porcentagem: 30.300%\n",
      "c. Traço: duration_ms; Porcentagem: 32.940%\n"
     ]
    }
   ],
   "source": [
    "import csv\n",
    "from statistics import quantiles\n",
    "\n",
    "data = open(\"data/spotify-tracks-genre.csv\", mode=\"r\" ,encoding=\"utf8\")\n",
    "data = csv.DictReader(data)\n",
    "data = list(data)\n",
    "\n",
    "tamanho = len(data)\n",
    "\n",
    "keys = {\"duration_ms\": [], \"danceability\": [], \"energy\": [], \"key\": [], \"loudness\": [], \"speechiness\": [], \"acousticness\": [],\n",
    "\"instrumentalness\": [], \"liveness\": [], \"valence\": [], \"tempo\": [],}\n",
    "\n",
    "maior = 0\n",
    "maiores = []\n",
    "\n",
    "for linha in data:\n",
    "  for key in keys:\n",
    "    keys[key].append(float(linha[key].replace(\",\", \".\")))\n",
    "\n",
    "quartis = {}\n",
    "\n",
    "for key in keys:\n",
    "  valores = keys[key]\n",
    "  quartil_1, quartil_2, quartil_3 = quantiles(valores, n=4 )\n",
    "\n",
    "  quartis[key] = []\n",
    "\n",
    "  casos_abaixo_1_quartil = 0\n",
    "  casos_abaixo_1_quartil_e_popular = 0\n",
    "\n",
    "  casos_intervalo_2 = 0\n",
    "  casos_intervalo_2_e_popular = 0\n",
    "\n",
    "  casos_abaixo_3_quartil = 0\n",
    "  casos_abaixo_3_quartil_e_popular = 0\n",
    "\n",
    "  limit_inf = quartil_2 - 0.25 * (quartil_2 - quartil_1)\n",
    "  limit_sup = quartil_2 + 0.25 * (quartil_3 - quartil_2)\n",
    "\n",
    "  for linha in data:\n",
    "    valor = float(linha[key].replace(\",\", \".\"))\n",
    "\n",
    "    # primeiro quartil\n",
    "    if valor < quartil_1 :\n",
    "      casos_abaixo_1_quartil += 1\n",
    "      if int(linha[\"popularity\"]) > 47:\n",
    "        casos_abaixo_1_quartil_e_popular += 1\n",
    "\n",
    "    # terceiro:\n",
    "    if valor > quartil_3 :\n",
    "        casos_abaixo_3_quartil += 1\n",
    "        if int(linha[\"popularity\"]) > 47:\n",
    "          casos_abaixo_3_quartil_e_popular += 1\n",
    "\n",
    "    # segundo\n",
    "    if valor > limit_inf and valor < limit_sup:\n",
    "      casos_intervalo_2 += 1\n",
    "      if int(linha[\"popularity\"]) > 47:\n",
    "        casos_intervalo_2_e_popular += 1\n",
    "\n",
    "  quartis[key].append([casos_abaixo_1_quartil, casos_abaixo_1_quartil_e_popular])\n",
    "  quartis[key].append([casos_abaixo_3_quartil, casos_abaixo_3_quartil_e_popular])\n",
    "  quartis[key].append([casos_intervalo_2, casos_intervalo_2_e_popular])\n",
    "\n",
    "resposta = [(\"a\", 0), (\"a\", 0), (\"a\", 0)]\n",
    "\n",
    "for quartil in quartis:\n",
    "  dados = quartis[quartil]\n",
    "\n",
    "  j = 0\n",
    "  for probabilidade in dados:\n",
    "\n",
    "    if probabilidade[0] != 0 or probabilidade[1] != 0:\n",
    "      probabilidade = probabilidade[1] / probabilidade[0]\n",
    "      probabilidade = round(probabilidade * 100, 2)\n",
    "\n",
    "      if probabilidade > resposta[j][1]:\n",
    "        resposta[j] = (quartil, probabilidade)\n",
    "\n",
    "    j += 1\n",
    "\n",
    "i = 0\n",
    "letras = [\"a\", \"b\", \"c\"]\n",
    "\n",
    "for letra in resposta:\n",
    "  print(f\"{letras[i]}. Traço: {letra[0]}; Porcentagem: {letra[1]:.3f}%\")\n",
    "  i += 1"
   ]
  }
 ],
 "metadata": {
  "kernelspec": {
   "display_name": "Python 3",
   "language": "python",
   "name": "python3"
  },
  "language_info": {
   "codemirror_mode": {
    "name": "ipython",
    "version": 3
   },
   "file_extension": ".py",
   "mimetype": "text/x-python",
   "name": "python",
   "nbconvert_exporter": "python",
   "pygments_lexer": "ipython3",
   "version": "3.12.2"
  }
 },
 "nbformat": 4,
 "nbformat_minor": 2
}
